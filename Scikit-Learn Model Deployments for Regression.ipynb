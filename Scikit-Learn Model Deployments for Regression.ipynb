{
 "cells": [
  {
   "cell_type": "markdown",
   "metadata": {},
   "source": [
    "# Scikit-Learn Model Deployments for SVR, RF, Boosting Algorithms"
   ]
  },
  {
   "cell_type": "markdown",
   "metadata": {},
   "source": [
    "### Importing libraries"
   ]
  },
  {
   "cell_type": "code",
   "execution_count": 1,
   "metadata": {},
   "outputs": [],
   "source": [
    "import sys\n",
    "import numpy as np\n",
    "from Crypto.Cipher import AES\n",
    "from sklearn.tree import _tree\n",
    "\n",
    "from sklearn.svm import SVR\n",
    "from sklearn.ensemble import RandomForestRegressor, GradientBoostingRegressor\n",
    "from sklearn.pipeline import Pipeline\n",
    "from sklearn.preprocessing import StandardScaler"
   ]
  },
  {
   "cell_type": "markdown",
   "metadata": {},
   "source": [
    "### Generate Decision-Tree code"
   ]
  },
  {
   "cell_type": "code",
   "execution_count": 2,
   "metadata": {},
   "outputs": [],
   "source": [
    "def tree_to_code(tree, feature_names, num):\n",
    "    tree_ = tree.tree_\n",
    "    feature_name = [\n",
    "        feature_names[i] if i != _tree.TREE_UNDEFINED else \"undefined!\"\n",
    "        for i in tree_.feature\n",
    "    ]\n",
    "    print(\"\\n  def tree_{}({}):\".format(num, 'X'))\n",
    "    \n",
    "    def recurse(node, depth):\n",
    "        indent = \"  \" * depth\n",
    "        if tree_.feature[node] != _tree.TREE_UNDEFINED:\n",
    "            name = feature_name[node]\n",
    "            threshold = tree_.threshold[node]\n",
    "            print(\"{}if {} <= {}:\".format(indent, name, threshold))\n",
    "            recurse(tree_.children_left[node], depth + 1)\n",
    "            print(\"{}else:\".format(indent))\n",
    "            recurse(tree_.children_right[node], depth + 1)\n",
    "        else:\n",
    "            print(\"{}return {}\".format(indent, tree_.value[node]))\n",
    "\n",
    "    recurse(0, 2)"
   ]
  },
  {
   "cell_type": "markdown",
   "metadata": {},
   "source": [
    "### Encrypt & Decrypt model"
   ]
  },
  {
   "cell_type": "code",
   "execution_count": 3,
   "metadata": {},
   "outputs": [],
   "source": [
    "def encrypt_model(folder_path, model_name):\n",
    "    iv = b'abcdefghijklmnop'\n",
    "    secret_key = b'abcdefghijklmKEY'\n",
    "    \n",
    "    BS = 16\n",
    "    pad = lambda s: s + (BS - len(s) % BS) * chr(BS - len(s) % BS)\n",
    "    \n",
    "    filename = folder_path + model_name + '_class'\n",
    "    ot = open(filename + '.py','rb')\n",
    "    x = (str(ot.read().decode(\"utf-8\")))\n",
    "    cipher = AES.new(secret_key,AES.MODE_CBC,iv)\n",
    "    x = pad(x)\n",
    "    ENCODED= (cipher.encrypt(x.encode(\"utf8\")))\n",
    "    ot.close()\n",
    "    ot = open(filename + '_enc.txt','wb')\n",
    "    ot.write(ENCODED)\n",
    "    ot.close()\n",
    "    \n",
    "def decrypt_model(folder_path, model_name):\n",
    "    unpad = lambda s : s[0:-s[-1]]\n",
    "    filename = folder_path + model_name + '_class'\n",
    "    \n",
    "    iv = b'abcdefghijklmnop'\n",
    "    secret_key = b'abcdefghijklmKEY'\n",
    "    ot = open(filename + '_enc.txt','rb')\n",
    "    X_DS = ot.read()\n",
    "    cipher = AES.new(secret_key,AES.MODE_CBC,iv)\n",
    "    DECODE = cipher.decrypt(X_DS)\n",
    "    \n",
    "    prog_block = unpad(DECODE)\n",
    "    return prog_block"
   ]
  },
  {
   "cell_type": "markdown",
   "metadata": {},
   "source": [
    "### Save function: SVR/RF/Boosting model"
   ]
  },
  {
   "cell_type": "code",
   "execution_count": 4,
   "metadata": {},
   "outputs": [],
   "source": [
    "def save_model(folder_path, model_name, model_save, model_input, model_output, model_type):\n",
    "    original_stdout = sys.stdout # Save a reference to the original standard output\n",
    "    model_par_len = model_input.shape[1]\n",
    "    model_X_mean = list(model_input.mean(axis = 0))\n",
    "    model_X_std = list(model_input.std(axis = 0))\n",
    "    model_X_var = ((model_input-model_input.mean(axis = 0))/model_input.std(axis = 0)).var()\n",
    "    \n",
    "    py_filename = folder_path + model_name + '_class.py'\n",
    "    \n",
    "    if model_type == 'SVR':\n",
    "        with open(py_filename, 'w') as f:\n",
    "            sys.stdout = f \n",
    "            print(\"class \" + model_name + \"():\")\n",
    "            print(\"  model_type = '\" + str(model_type) + \"'\")\n",
    "            print(\"  kernel = '\" + str(model_save[1].kernel) + \"'\")\n",
    "            print(\"  degree = \" + str(model_save[1].degree))\n",
    "            print(\"  gamma = '\" + str(model_save[1].gamma) + \"'\")\n",
    "            print(\"  coef0 = \" + str(model_save[1].coef0))\n",
    "            print(\"  epsilon = \" + str(model_save[1].epsilon))\n",
    "            print(\"  n_features = \" + str(model_par_len))\n",
    "            print(\"  input_variance = \" + str(model_X_var))\n",
    "            print(\"  intercept = \" + str(model_save[1].intercept_[0]))\n",
    "            print(\"  mean_value = \" + str(model_X_mean))\n",
    "            print(\"  std_value = \" + str(model_X_std))\n",
    "            print(\"  dual_coef = \" + str(model_save[1].dual_coef_.tolist()))\n",
    "            print(\"  support_vectors = \" + str(model_save[1].support_vectors_.tolist()))\n",
    "    elif model_type == 'RF':\n",
    "        with open(py_filename, 'w') as f:\n",
    "            sys.stdout = f \n",
    "            print(\"class \" + model_name + \"():\")\n",
    "            print(\"  model_type = '\" + str(model_type) + \"'\")\n",
    "            print(\"  mean_value = \" + str(model_X_mean))\n",
    "            print(\"  std_value = \" + str(model_X_std))\n",
    "            [tree_to_code(model_save[1].estimators_[i], ['X['+str(j)+']' for j in range(model_par_len)], i) for i in range(model_save[1].n_estimators)]\n",
    "    elif model_type == 'GB':\n",
    "        with open(py_filename, 'w') as f:\n",
    "            sys.stdout = f \n",
    "            print(\"class \" + model_name + \"():\")\n",
    "            print(\"  model_type = '\" + str(model_type) + \"'\")\n",
    "            print(\"  learning_rate = \" + str(model_save[1].learning_rate))\n",
    "            print(\"  base_estimator_value = \" + str(model_output.mean()))\n",
    "            print(\"  mean_value = \" + str(model_X_mean))\n",
    "            print(\"  std_value = \" + str(model_X_std))\n",
    "            [tree_to_code(model_save[1].estimators_[i][0], ['X['+str(j)+']' for j in range(model_par_len)], i) for i in range(model_save[1].n_estimators)]\n",
    "        \n",
    "    sys.stdout = original_stdout "
   ]
  },
  {
   "cell_type": "markdown",
   "metadata": {},
   "source": [
    "### Predict function: SVR/RF/Boosting model"
   ]
  },
  {
   "cell_type": "code",
   "execution_count": 5,
   "metadata": {},
   "outputs": [],
   "source": [
    "def custom_predict(model, x_input):\n",
    "    output_list = []\n",
    "    if model.model_type == 'SVR':\n",
    "        for sample_i in range(x_input.shape[0]):\n",
    "            x_input_sample = (x_input[sample_i] - model.mean_value)/model.std_value           \n",
    "            sup_vecs = np.array(model.support_vectors)\n",
    "            dual_coefs = np.array(model.dual_coef)\n",
    "            intercept = model.intercept\n",
    "            n_featrs = model.n_features\n",
    "            gamma = (1/n_featrs) if model.gamma == 'auto' else ((1 / (n_featrs * model.input_variance)) if model.gamma == 'scale' else float(model.gamma))\n",
    "            if model.kernel == 'linear':\n",
    "                output_sample = (np.dot(dual_coefs, np.dot(sup_vecs, x_input_sample.reshape(1, -1).T)) + model.intercept).flatten()[0]\n",
    "            elif model.kernel == 'rbf':\n",
    "                diff = sup_vecs - x_input_sample\n",
    "                norm2 = np.array([np.linalg.norm(diff[n, :]) for n in range(np.shape(sup_vecs)[0])])\n",
    "                output_sample = (np.dot(dual_coefs, (np.exp(-gamma*(norm2**2)))) + intercept).flatten()[0]\n",
    "            elif model.kernel == 'sigmoid':\n",
    "                output_sample = (np.dot(dual_coefs, (np.tanh(gamma * np.dot(sup_vecs, x_input_sample.reshape(1, -1).T) + model.coef0)))+ intercept).flatten()[0]\n",
    "            elif model.kernel == 'poly':\n",
    "                output_sample = (dual_coefs.dot((gamma * np.dot(sup_vecs, x_input_sample.reshape(1, -1).T) + model.coef0)**model.degree)+ intercept).flatten()[0]\n",
    "            output_list.append(output_sample)\n",
    "    elif model.model_type == 'RF':\n",
    "        for sample_i in range(x_input.shape[0]):\n",
    "            x_input_sample = (x_input[sample_i] - model.mean_value)/model.std_value\n",
    "            output_sample = np.mean([getattr(model, dir(model)[i])([x for x in x_input_sample]) for i in range(len(dir(model))) if 'tree_' in dir(model)[i]])\n",
    "            output_list.append(output_sample)\n",
    "    elif model.model_type == 'GB':\n",
    "        for sample_i in range(x_input.shape[0]):\n",
    "            x_input_sample = (x_input[sample_i] - model.mean_value)/model.std_value\n",
    "            output_sample_x = np.array([getattr(model, dir(model)[i])([x for x in x_input_sample]) for i in range(len(dir(model))) if 'tree_' in dir(model)[i]]).flatten()\n",
    "            output_sample = sum([model.base_estimator_value] + [model.learning_rate * x for x in output_sample_x])\n",
    "            output_list.append(output_sample)\n",
    "    \n",
    "    return output_list"
   ]
  },
  {
   "cell_type": "markdown",
   "metadata": {},
   "source": [
    "### Testing"
   ]
  },
  {
   "cell_type": "code",
   "execution_count": 6,
   "metadata": {},
   "outputs": [
    {
     "name": "stdout",
     "output_type": "stream",
     "text": [
      "Sklearn prediction:  [ 1.17360028  0.38984398  0.98842464  1.92065676  0.93948422  0.00352724\n",
      "  0.96067962 -0.16132168  0.37597762  0.69535565]\n",
      "Saved model prediction:  [1.173600276418813, 0.3898439762212129, 0.988424643053091, 1.9206567627425617, 0.9394842191478621, 0.003527237790000526, 0.9606796154228735, -0.16132167916173545, 0.3759776222648109, 0.6953556467227138]\n"
     ]
    }
   ],
   "source": [
    "# SVR\n",
    "\n",
    "n_samples, n_features = 10, 5\n",
    "rng = np.random.RandomState(0)\n",
    "y = rng.randn(n_samples)\n",
    "X = rng.randn(n_samples, n_features)\n",
    "\n",
    "# Model Training\n",
    "algo = SVR(C=1, degree=1, epsilon=0.01, kernel='linear')\n",
    "model_SVR_pl = Pipeline([('standardize',StandardScaler()),('svr',algo)])\n",
    "model_SVR_sk = model_SVR_pl.fit(X, y)\n",
    "print('Sklearn prediction: ', model_SVR_sk.predict(X))\n",
    "\n",
    "# Model Save\n",
    "folder_path = 'saved_models\\\\'\n",
    "model_name = 'svr_model'\n",
    "encrypt_model(folder_path, model_name)\n",
    "save_model(folder_path, model_name, model_SVR_sk, X, y,'SVR')\n",
    "\n",
    "# Model Load\n",
    "mdl_script = decrypt_model(folder_path, model_name)\n",
    "svr_model = None\n",
    "exec(mdl_script)\n",
    "\n",
    "# Model Prediction\n",
    "print('Saved model prediction: ', custom_predict(svr_model, X))"
   ]
  },
  {
   "cell_type": "code",
   "execution_count": 7,
   "metadata": {},
   "outputs": [
    {
     "name": "stdout",
     "output_type": "stream",
     "text": [
      "Sklearn prediction:  [ 1.23608284  0.4694954   1.03755037  1.73906065  1.1580774  -0.48150228\n",
      "  0.98933155  0.28366101  0.26809519  0.45716256]\n",
      "Saved model prediction:  [1.2360828447, 0.4694953975000001, 1.0375503654, 1.7390606534999995, 1.1580774028999998, -0.48150227570000015, 0.9893315549, 0.2836610051, 0.26809519619999994, 0.45716255619999996]\n"
     ]
    }
   ],
   "source": [
    "# Random Forest\n",
    "\n",
    "n_samples, n_features = 10, 5\n",
    "rng = np.random.RandomState(0)\n",
    "y = rng.randn(n_samples)\n",
    "X = rng.randn(n_samples, n_features)\n",
    "\n",
    "# Model Training\n",
    "algo = RandomForestRegressor(random_state=0, n_jobs=-1)\n",
    "model_RF_pl = Pipeline([('standardize',StandardScaler()),('rf',algo)])\n",
    "model_RF_sk = model_RF_pl.fit(X, y)\n",
    "print('Sklearn prediction: ', model_RF_sk.predict(X))\n",
    "\n",
    "# Model Save\n",
    "folder_path = 'saved_models\\\\'\n",
    "model_name = 'rf_model'\n",
    "encrypt_model(folder_path, model_name)\n",
    "save_model(folder_path, model_name, model_RF_sk, X, y,'RF')\n",
    "\n",
    "# Model Load\n",
    "mdl_script = decrypt_model(folder_path, model_name)\n",
    "rf_model = None\n",
    "exec(mdl_script)\n",
    "\n",
    "# Model Prediction\n",
    "print('Saved model prediction: ', custom_predict(rf_model, X))"
   ]
  },
  {
   "cell_type": "code",
   "execution_count": 8,
   "metadata": {},
   "outputs": [
    {
     "name": "stdout",
     "output_type": "stream",
     "text": [
      "Sklearn prediction:  [ 1.76379795  0.40030092  0.97873617  2.24037407  1.86717872 -0.97680018\n",
      "  0.95006462 -0.15112746 -0.10279718  0.41050409]\n",
      "Saved model prediction:  [1.7637979439632852, 0.40030091920377264, 0.9787361664782348, 2.2403740617288346, 1.867178715969322, -0.9768001802711654, 0.9500646182037723, -0.15112746227116527, -0.10279718179622746, 0.4105040812037727]\n"
     ]
    }
   ],
   "source": [
    "# Gradient Boosting\n",
    "\n",
    "n_samples, n_features = 10, 5\n",
    "rng = np.random.RandomState(0)\n",
    "y = rng.randn(n_samples)\n",
    "X = rng.randn(n_samples, n_features)\n",
    "\n",
    "# Model Training\n",
    "algo = GradientBoostingRegressor(random_state=0)\n",
    "model_GB_pl = Pipeline([('standardize',StandardScaler()),('gb',algo)])\n",
    "model_GB_sk = model_GB_pl.fit(X, y)\n",
    "print('Sklearn prediction: ', model_GB_sk.predict(X))\n",
    "\n",
    "# Model Save\n",
    "folder_path = 'saved_models\\\\'\n",
    "model_name = 'gb_model'\n",
    "encrypt_model(folder_path, model_name)\n",
    "save_model(folder_path, model_name, model_GB_sk, X, y,'GB')\n",
    "\n",
    "# Model Load\n",
    "mdl_script = decrypt_model(folder_path, model_name)\n",
    "gb_model = None\n",
    "exec(mdl_script)\n",
    "\n",
    "# Model Prediction\n",
    "print('Saved model prediction: ', custom_predict(gb_model, X))"
   ]
  },
  {
   "cell_type": "code",
   "execution_count": null,
   "metadata": {},
   "outputs": [],
   "source": []
  }
 ],
 "metadata": {
  "kernelspec": {
   "display_name": "Python 3",
   "language": "python",
   "name": "python3"
  },
  "language_info": {
   "codemirror_mode": {
    "name": "ipython",
    "version": 3
   },
   "file_extension": ".py",
   "mimetype": "text/x-python",
   "name": "python",
   "nbconvert_exporter": "python",
   "pygments_lexer": "ipython3",
   "version": "3.7.6"
  }
 },
 "nbformat": 4,
 "nbformat_minor": 4
}
